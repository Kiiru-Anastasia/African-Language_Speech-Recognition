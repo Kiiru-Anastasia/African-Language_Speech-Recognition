{
 "cells": [
  {
   "cell_type": "code",
   "execution_count": 1,
   "id": "6c2dfaab",
   "metadata": {},
   "outputs": [
    {
     "name": "stderr",
     "output_type": "stream",
     "text": [
      "C:\\Users\\kiiru\\.conda\\envs\\speech_recognition\\lib\\site-packages\\paramiko\\transport.py:219: CryptographyDeprecationWarning: Blowfish has been deprecated\n",
      "  \"class\": algorithms.Blowfish,\n"
     ]
    }
   ],
   "source": [
    "import librosa\n",
    "\n",
    "import pandas as pd\n",
    "import csv\n",
    "\n",
    "import os\n",
    "import sys\n",
    "sys.path.insert(0, '../scripts')\n",
    "\n",
    "from audio_overview import AudiOverview\n",
    "\n",
    "import warnings\n",
    "warnings.filterwarnings(\"ignore\")"
   ]
  },
  {
   "cell_type": "code",
   "execution_count": 2,
   "id": "6639d8e5",
   "metadata": {
    "scrolled": true
   },
   "outputs": [],
   "source": [
    "metadata_path = '../rawdata/additional/Excerpts-Data/text/metadata.csv'"
   ]
  },
  {
   "cell_type": "code",
   "execution_count": 3,
   "id": "3adaa407",
   "metadata": {},
   "outputs": [],
   "source": [
    "obj = AudiOverview()"
   ]
  },
  {
   "cell_type": "code",
   "execution_count": 4,
   "id": "e67ddcbc",
   "metadata": {},
   "outputs": [],
   "source": [
    "def meta_data(path, sep=\"|\"):\n",
    "    df = pd.read_csv(path, sep=sep, header=None)\n",
    "    df = df.drop([1], axis=1)\n",
    "    df.columns=['filename', 'transcription']\n",
    "    \n",
    "    toDrop = []\n",
    "    filepaths = []\n",
    "    sample_rates = []\n",
    "    duration = []\n",
    "    \n",
    "    for f in df['filename']:\n",
    "        f_name = f.strip()\n",
    "        #parent_folder =  f.split('_')[0]\n",
    "        filepath = obj.audio_files(f_name)\n",
    "        try:\n",
    "            if os.path.isfile(filepath):\n",
    "                audio, fs = librosa.load(filepath, sr=None)\n",
    "                filepaths.append(filepath)\n",
    "                sample_rates.append(fs)\n",
    "                duration.append(float(len(audio)/fs))\n",
    "            else:\n",
    "                toDrop.append(f)\n",
    "                #df = df[df.filename != f]\n",
    "                continue\n",
    "        except FilePathError:\n",
    "            print(\"filepath not found\")\n",
    "    \n",
    "    df = df[df.filename.isin(toDrop) == False]\n",
    "    df['filepath'] = filepaths\n",
    "    df['sample_rate'] = sample_rates\n",
    "    df['duration'] = duration\n",
    "    \n",
    "    return df"
   ]
  },
  {
   "cell_type": "code",
   "execution_count": 5,
   "id": "7b361e02",
   "metadata": {},
   "outputs": [],
   "source": [
    "df = meta_data(metadata_path)"
   ]
  },
  {
   "cell_type": "code",
   "execution_count": 6,
   "id": "ae3b449a",
   "metadata": {},
   "outputs": [
    {
     "name": "stdout",
     "output_type": "stream",
     "text": [
      "<class 'pandas.core.frame.DataFrame'>\n",
      "Int64Index: 1563 entries, 0 to 1569\n",
      "Data columns (total 5 columns):\n",
      " #   Column         Non-Null Count  Dtype  \n",
      "---  ------         --------------  -----  \n",
      " 0   filename       1563 non-null   object \n",
      " 1   transcription  1563 non-null   object \n",
      " 2   filepath       1563 non-null   object \n",
      " 3   sample_rate    1563 non-null   int64  \n",
      " 4   duration       1563 non-null   float64\n",
      "dtypes: float64(1), int64(1), object(3)\n",
      "memory usage: 73.3+ KB\n"
     ]
    }
   ],
   "source": [
    "df.info()"
   ]
  },
  {
   "cell_type": "code",
   "execution_count": 7,
   "id": "99726baf",
   "metadata": {},
   "outputs": [
    {
     "data": {
      "text/html": [
       "<div>\n",
       "<style scoped>\n",
       "    .dataframe tbody tr th:only-of-type {\n",
       "        vertical-align: middle;\n",
       "    }\n",
       "\n",
       "    .dataframe tbody tr th {\n",
       "        vertical-align: top;\n",
       "    }\n",
       "\n",
       "    .dataframe thead th {\n",
       "        text-align: right;\n",
       "    }\n",
       "</style>\n",
       "<table border=\"1\" class=\"dataframe\">\n",
       "  <thead>\n",
       "    <tr style=\"text-align: right;\">\n",
       "      <th></th>\n",
       "      <th>filename</th>\n",
       "      <th>transcription</th>\n",
       "      <th>filepath</th>\n",
       "      <th>sample_rate</th>\n",
       "      <th>duration</th>\n",
       "    </tr>\n",
       "  </thead>\n",
       "  <tbody>\n",
       "    <tr>\n",
       "      <th>0</th>\n",
       "      <td>KISWA-00001</td>\n",
       "      <td>Kenya yageuka taifa lililojaa matapeli ndani ...</td>\n",
       "      <td>../rawdata/additional/Excerpts-Data/wavs/KISWA...</td>\n",
       "      <td>22050</td>\n",
       "      <td>5.828209</td>\n",
       "    </tr>\n",
       "    <tr>\n",
       "      <th>1</th>\n",
       "      <td>KISWA-00002</td>\n",
       "      <td>NCHI YA WAKORA. Waziri arekebisha kosa lake l...</td>\n",
       "      <td>../rawdata/additional/Excerpts-Data/wavs/KISWA...</td>\n",
       "      <td>22050</td>\n",
       "      <td>5.398639</td>\n",
       "    </tr>\n",
       "    <tr>\n",
       "      <th>2</th>\n",
       "      <td>KISWA-00003</td>\n",
       "      <td>WAZIRI wa TeknolojiaHabari na Mawasilino, Joe...</td>\n",
       "      <td>../rawdata/additional/Excerpts-Data/wavs/KISWA...</td>\n",
       "      <td>22050</td>\n",
       "      <td>12.118549</td>\n",
       "    </tr>\n",
       "    <tr>\n",
       "      <th>3</th>\n",
       "      <td>KISWA-00004</td>\n",
       "      <td>Bwana Mucheru alifutilia mbali uteuzi wa mare...</td>\n",
       "      <td>../rawdata/additional/Excerpts-Data/wavs/KISWA...</td>\n",
       "      <td>22050</td>\n",
       "      <td>10.275465</td>\n",
       "    </tr>\n",
       "    <tr>\n",
       "      <th>4</th>\n",
       "      <td>KISWA-00005</td>\n",
       "      <td>Bwana alipomteua Kochalle aliyeaga dunia mnam...</td>\n",
       "      <td>../rawdata/additional/Excerpts-Data/wavs/KISWA...</td>\n",
       "      <td>22050</td>\n",
       "      <td>6.292608</td>\n",
       "    </tr>\n",
       "  </tbody>\n",
       "</table>\n",
       "</div>"
      ],
      "text/plain": [
       "       filename                                      transcription  \\\n",
       "0  KISWA-00001    Kenya yageuka taifa lililojaa matapeli ndani ...   \n",
       "1  KISWA-00002    NCHI YA WAKORA. Waziri arekebisha kosa lake l...   \n",
       "2  KISWA-00003    WAZIRI wa TeknolojiaHabari na Mawasilino, Joe...   \n",
       "3  KISWA-00004    Bwana Mucheru alifutilia mbali uteuzi wa mare...   \n",
       "4  KISWA-00005    Bwana alipomteua Kochalle aliyeaga dunia mnam...   \n",
       "\n",
       "                                            filepath  sample_rate   duration  \n",
       "0  ../rawdata/additional/Excerpts-Data/wavs/KISWA...        22050   5.828209  \n",
       "1  ../rawdata/additional/Excerpts-Data/wavs/KISWA...        22050   5.398639  \n",
       "2  ../rawdata/additional/Excerpts-Data/wavs/KISWA...        22050  12.118549  \n",
       "3  ../rawdata/additional/Excerpts-Data/wavs/KISWA...        22050  10.275465  \n",
       "4  ../rawdata/additional/Excerpts-Data/wavs/KISWA...        22050   6.292608  "
      ]
     },
     "execution_count": 7,
     "metadata": {},
     "output_type": "execute_result"
    }
   ],
   "source": [
    "df.head()"
   ]
  },
  {
   "cell_type": "code",
   "execution_count": 8,
   "id": "5c9699ae",
   "metadata": {},
   "outputs": [],
   "source": [
    "df.to_csv('../rawdata/additional/Excerpts-Data/text/cleaned_metadata.csv', index=False)"
   ]
  },
  {
   "cell_type": "code",
   "execution_count": null,
   "id": "bce420bf",
   "metadata": {},
   "outputs": [],
   "source": []
  }
 ],
 "metadata": {
  "kernelspec": {
   "display_name": "Python 3 (ipykernel)",
   "language": "python",
   "name": "python3"
  },
  "language_info": {
   "codemirror_mode": {
    "name": "ipython",
    "version": 3
   },
   "file_extension": ".py",
   "mimetype": "text/x-python",
   "name": "python",
   "nbconvert_exporter": "python",
   "pygments_lexer": "ipython3",
   "version": "3.9.12"
  }
 },
 "nbformat": 4,
 "nbformat_minor": 5
}
